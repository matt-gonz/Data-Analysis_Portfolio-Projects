{
 "cells": [
  {
   "cell_type": "markdown",
   "id": "935e64a4",
   "metadata": {},
   "source": [
    "# Automatic File Sorter in File Explorer"
   ]
  },
  {
   "cell_type": "code",
   "execution_count": 19,
   "id": "d7382e8b",
   "metadata": {},
   "outputs": [],
   "source": [
    "import os, shutil"
   ]
  },
  {
   "cell_type": "code",
   "execution_count": 20,
   "id": "80548adc",
   "metadata": {},
   "outputs": [],
   "source": [
    "path = r\"C:/Users/matth/OneDrive/Desktop/Data Analysis/Portfolio/Python Projects\""
   ]
  },
  {
   "cell_type": "code",
   "execution_count": 21,
   "id": "a2185b8f",
   "metadata": {},
   "outputs": [],
   "source": [
    "file_names = os.listdir(path)"
   ]
  },
  {
   "cell_type": "code",
   "execution_count": 22,
   "id": "ee6ac314",
   "metadata": {},
   "outputs": [],
   "source": [
    "folder_names = ['csv files', 'image files', 'text files']\n",
    "\n",
    "for item in range(0, len(folder_names)):\n",
    "    folder_path = f\"{path}/{folder_names[item]}\"\n",
    "    if not os.path.exists(folder_path):\n",
    "        #print(folder_path)\n",
    "        os.makedirs(folder_path)\n",
    "        \n",
    "for file in file_names:\n",
    "    if \".csv\" in file and not os.path.exists(f\"{path}/csv files/{file}\"):\n",
    "        shutil.move(f\"{path}/{file}\", f\"{path}/csv files/{file}\")\n",
    "    if \".jpg\" in file and not os.path.exists(f\"{path}/image files/{file}\"):\n",
    "        shutil.move(f\"{path}/{file}\", f\"{path}/image files/{file}\")\n",
    "    if \".txt\" in file and not os.path.exists(f\"{path}/text files/{file}\"):\n",
    "        shutil.move(f\"{path}/{file}\", f\"{path}/text files/{file}\")"
   ]
  }
 ],
 "metadata": {
  "kernelspec": {
   "display_name": "Python 3 (ipykernel)",
   "language": "python",
   "name": "python3"
  },
  "language_info": {
   "codemirror_mode": {
    "name": "ipython",
    "version": 3
   },
   "file_extension": ".py",
   "mimetype": "text/x-python",
   "name": "python",
   "nbconvert_exporter": "python",
   "pygments_lexer": "ipython3",
   "version": "3.9.13"
  }
 },
 "nbformat": 4,
 "nbformat_minor": 5
}
