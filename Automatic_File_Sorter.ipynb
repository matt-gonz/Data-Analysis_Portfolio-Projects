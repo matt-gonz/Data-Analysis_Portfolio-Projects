{
 "cells": [
  {
   "cell_type": "markdown",
   "id": "935e64a4",
   "metadata": {},
   "source": [
    "# Automatic File Sorter in File Explorer"
   ]
  },
  {
   "cell_type": "code",
   "execution_count": 13,
   "id": "d7382e8b",
   "metadata": {},
   "outputs": [],
   "source": [
    "import os, shutil"
   ]
  },
  {
   "cell_type": "code",
   "execution_count": 14,
   "id": "80548adc",
   "metadata": {},
   "outputs": [],
   "source": [
    "path = r\"C:/Users/matth/OneDrive/Desktop/Data Analysis/Portfolio/Python Projects\""
   ]
  },
  {
   "cell_type": "code",
   "execution_count": 15,
   "id": "a2185b8f",
   "metadata": {},
   "outputs": [
    {
     "name": "stdout",
     "output_type": "stream",
     "text": [
      "['cmsui_data.csv', 'FakeFile.txt', 'New Bitmap Image.bmp', 'New Rich Text Document.rtf', 'New TouchDesigner Project.toe', '_DSC4429_Original.jpg', '_DSC4464_Original.jpg', '_DSC9983.jpeg']\n"
     ]
    }
   ],
   "source": [
    "file_names = os.listdir(path)\n",
    "\n",
    "print(file_names)"
   ]
  },
  {
   "cell_type": "code",
   "execution_count": 16,
   "id": "eb64fac5",
   "metadata": {},
   "outputs": [],
   "source": [
    "for file_name in file_names:\n",
    "    file_extension = file_name.split(\".\")[-1]\n",
    "    folder_path = f\"{path}/{file_extension} files\"\n",
    "    # Create folder if it does not already exist\n",
    "    if not os.path.exists(folder_path):\n",
    "        os.makedirs(folder_path)\n",
    "    # Move file into newly created folder\n",
    "    if file_extension in file_name and not os.path.exists(f\"{folder_path}/{file_name}\"):\n",
    "        shutil.move(f\"{path}/{file_name}\", f\"{folder_path}/{file_name}\")"
   ]
  },
  {
   "cell_type": "code",
   "execution_count": null,
   "id": "108dc3ab",
   "metadata": {},
   "outputs": [],
   "source": []
  }
 ],
 "metadata": {
  "kernelspec": {
   "display_name": "Python 3 (ipykernel)",
   "language": "python",
   "name": "python3"
  },
  "language_info": {
   "codemirror_mode": {
    "name": "ipython",
    "version": 3
   },
   "file_extension": ".py",
   "mimetype": "text/x-python",
   "name": "python",
   "nbconvert_exporter": "python",
   "pygments_lexer": "ipython3",
   "version": "3.9.13"
  }
 },
 "nbformat": 4,
 "nbformat_minor": 5
}
