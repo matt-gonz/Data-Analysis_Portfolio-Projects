{
 "cells": [
  {
   "cell_type": "markdown",
   "id": "71451951",
   "metadata": {},
   "source": [
    "# BMI Calculator\n",
    "\n",
    "https://www.calculator.net/bmi-calculator.html\n",
    "\n",
    "*** Output is based on the World Health Organization's (WHO) recommended body weight based on BMI values for adults. It is used for both men and women, age 20 or older. ***"
   ]
  },
  {
   "cell_type": "code",
   "execution_count": 14,
   "id": "2a0233c1",
   "metadata": {},
   "outputs": [
    {
     "name": "stdout",
     "output_type": "stream",
     "text": [
      "Enter your name: Matthew\n",
      "Enter your weight in pounds: 184\n",
      "Enter your height in inches: 68\n",
      "Matthew, your BMI result of 27.97kg/m^2 places you in the category of: overweight\n"
     ]
    }
   ],
   "source": [
    "name = input(\"Enter your name: \")\n",
    "\n",
    "weight = float(input(\"Enter your weight in pounds: \"))\n",
    "\n",
    "height = int(input(\"Enter your height in inches: \"))\n",
    "\n",
    "BMI = (weight * 703) / (height * height)\n",
    "\n",
    "output_str = f\"{name}, your BMI result of {round(BMI,2)}kg/m^2 places you in the category of:\"\n",
    "\n",
    "if BMI > 0:\n",
    "    if BMI < 16:\n",
    "        print(f\"{output_str} severe thinness\")\n",
    "    elif BMI < 17:\n",
    "        print(f\"{output_str} moderate thinness\")\n",
    "    elif BMI < 18.5:\n",
    "        print(f\"{output_str} mild thinness\")\n",
    "    elif BMI < 25:\n",
    "        print(f\"{output_str} normal\")\n",
    "    elif BMI < 30:\n",
    "        print(f\"{output_str} overweight\")\n",
    "    elif BMI < 35:\n",
    "        print(f\"{output_str} obese class I\")\n",
    "    elif BMI < 40:\n",
    "        print(f\"{output_str} obese class II\")\n",
    "    else:\n",
    "        print(f\"{output_str} obese class III\")"
   ]
  },
  {
   "cell_type": "code",
   "execution_count": null,
   "id": "9a42fc3f",
   "metadata": {},
   "outputs": [],
   "source": []
  },
  {
   "cell_type": "code",
   "execution_count": null,
   "id": "063fa267",
   "metadata": {},
   "outputs": [],
   "source": [
    "Severe Thinness\t< 16\n",
    "Moderate Thinness\t16 - 17\n",
    "Mild Thinness\t17 - 18.5\n",
    "Normal\t18.5 - 25\n",
    "Overweight\t25 - 30\n",
    "Obese Class I\t30 - 35\n",
    "Obese Class II\t35 - 40\n",
    "Obese Class III\t> 40"
   ]
  }
 ],
 "metadata": {
  "kernelspec": {
   "display_name": "Python 3 (ipykernel)",
   "language": "python",
   "name": "python3"
  },
  "language_info": {
   "codemirror_mode": {
    "name": "ipython",
    "version": 3
   },
   "file_extension": ".py",
   "mimetype": "text/x-python",
   "name": "python",
   "nbconvert_exporter": "python",
   "pygments_lexer": "ipython3",
   "version": "3.9.13"
  }
 },
 "nbformat": 4,
 "nbformat_minor": 5
}
